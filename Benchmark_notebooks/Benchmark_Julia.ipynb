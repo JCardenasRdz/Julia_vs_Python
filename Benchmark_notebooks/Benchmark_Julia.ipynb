{
 "cells": [
  {
   "cell_type": "markdown",
   "metadata": {},
   "source": [
    "## Loops"
   ]
  },
  {
   "cell_type": "code",
   "execution_count": 1,
   "metadata": {},
   "outputs": [
    {
     "data": {
      "text/plain": [
       "100000.0"
      ]
     },
     "execution_count": 1,
     "metadata": {},
     "output_type": "execute_result"
    }
   ],
   "source": [
    "function foo(n)\n",
    "    for i=1:n\n",
    "        Z = expm( rand(6,6)) * rand(6,1)\n",
    "    end\n",
    "    \n",
    "end\n",
    "\n",
    "\n",
    "reps = 10E4"
   ]
  },
  {
   "cell_type": "code",
   "execution_count": 2,
   "metadata": {},
   "outputs": [
    {
     "name": "stdout",
     "output_type": "stream",
     "text": [
      "  1.359550 seconds (958.92 k allocations: 37.448 MB, 0.95% gc time)\n"
     ]
    }
   ],
   "source": [
    "@time foo(1)"
   ]
  },
  {
   "cell_type": "code",
   "execution_count": 3,
   "metadata": {},
   "outputs": [
    {
     "name": "stdout",
     "output_type": "stream",
     "text": [
      "  0.058249 seconds (61.00 k allocations: 15.534 MB, 17.48% gc time)\n"
     ]
    }
   ],
   "source": [
    "@time foo(1000)"
   ]
  },
  {
   "cell_type": "markdown",
   "metadata": {},
   "source": [
    "## Matrix Exponential and Matrix multiplication"
   ]
  },
  {
   "cell_type": "code",
   "execution_count": 4,
   "metadata": {},
   "outputs": [
    {
     "data": {
      "text/plain": [
       "20"
      ]
     },
     "execution_count": 4,
     "metadata": {},
     "output_type": "execute_result"
    }
   ],
   "source": [
    "foo(A,B) = A*B\n",
    "n = 20"
   ]
  },
  {
   "cell_type": "code",
   "execution_count": 5,
   "metadata": {},
   "outputs": [
    {
     "name": "stdout",
     "output_type": "stream",
     "text": [
      "  0.042978 seconds (20.34 k allocations: 946.829 KB)\n"
     ]
    }
   ],
   "source": [
    "@time foo(randn(n,n), randn(n,n));"
   ]
  },
  {
   "cell_type": "code",
   "execution_count": 6,
   "metadata": {
    "scrolled": true
   },
   "outputs": [
    {
     "name": "stdout",
     "output_type": "stream",
     "text": [
      "  0.000048 seconds (7 allocations: 9.906 KB)\n"
     ]
    }
   ],
   "source": [
    "@time foo(randn(n,n), randn(n,n));"
   ]
  },
  {
   "cell_type": "markdown",
   "metadata": {},
   "source": [
    "## Linear regression"
   ]
  },
  {
   "cell_type": "code",
   "execution_count": 7,
   "metadata": {
    "collapsed": true
   },
   "outputs": [],
   "source": [
    "X = rand(100,10)\n",
    "b = rand(10,1)\n",
    "y= X * b;"
   ]
  },
  {
   "cell_type": "code",
   "execution_count": 8,
   "metadata": {},
   "outputs": [
    {
     "data": {
      "text/plain": [
       "foo (generic function with 3 methods)"
      ]
     },
     "execution_count": 8,
     "metadata": {},
     "output_type": "execute_result"
    }
   ],
   "source": [
    "function foo(X_::Array{Float64,2}, y_::Array{Float64,2}, n::Int)\n",
    "    b = fill(1.0, (10, 1))\n",
    "    for i = 1: n\n",
    "       b = X\\y;\n",
    "    end   \n",
    "end"
   ]
  },
  {
   "cell_type": "code",
   "execution_count": 9,
   "metadata": {},
   "outputs": [
    {
     "name": "stdout",
     "output_type": "stream",
     "text": [
      "  0.967432 seconds (755.62 k allocations: 29.921 MB, 0.51% gc time)\n"
     ]
    }
   ],
   "source": [
    "@time foo(X, y, 1)"
   ]
  },
  {
   "cell_type": "code",
   "execution_count": 10,
   "metadata": {},
   "outputs": [
    {
     "name": "stdout",
     "output_type": "stream",
     "text": [
      "  1.371806 seconds (2.06 M allocations: 1.381 GB, 13.35% gc time)\n"
     ]
    }
   ],
   "source": [
    "@time foo(X, y, 128^2)"
   ]
  },
  {
   "cell_type": "code",
   "execution_count": 11,
   "metadata": {},
   "outputs": [
    {
     "ename": "LoadError",
     "evalue": "UndefVarError: B not defined",
     "output_type": "error",
     "traceback": [
      "UndefVarError: B not defined",
      ""
     ]
    }
   ],
   "source": [
    "A= rand(10,2)\n",
    "A .= X .\\ B"
   ]
  },
  {
   "cell_type": "markdown",
   "metadata": {},
   "source": [
    "## Non-linear regression"
   ]
  },
  {
   "cell_type": "code",
   "execution_count": 12,
   "metadata": {
    "collapsed": true
   },
   "outputs": [],
   "source": [
    "using LsqFit\n",
    "\n",
    "# function\n",
    "t2decay(x_, p) = p[1]*exp(-x_/p[2])\n",
    "\n",
    "# simulate some data\n",
    "xdata = linspace(0,1,20);\n",
    "ydata=  t2decay(xdata, [1., 0.25]);"
   ]
  },
  {
   "cell_type": "code",
   "execution_count": 13,
   "metadata": {},
   "outputs": [
    {
     "name": "stdout",
     "output_type": "stream",
     "text": [
      "  2.984895 seconds (6.69 M allocations: 995.445 MB, 5.08% gc time)\n"
     ]
    }
   ],
   "source": [
    "N_voxels = 128^2\n",
    "noise_level = 1.\n",
    "\n",
    "@time  for i = 1:N_voxels\n",
    "       ydata_noisy = ydata + randn(size(ydata)) * noise_level\n",
    "            fit = curve_fit(t2decay, xdata, ydata, [1.,1.]);  \n",
    "       end"
   ]
  },
  {
   "cell_type": "code",
   "execution_count": null,
   "metadata": {
    "collapsed": true
   },
   "outputs": [],
   "source": []
  }
 ],
 "metadata": {
  "anaconda-cloud": {},
  "kernelspec": {
   "display_name": "Julia 0.5.2",
   "language": "julia",
   "name": "julia-0.5"
  },
  "language_info": {
   "file_extension": ".jl",
   "mimetype": "application/julia",
   "name": "julia",
   "version": "0.5.2"
  }
 },
 "nbformat": 4,
 "nbformat_minor": 2
}
